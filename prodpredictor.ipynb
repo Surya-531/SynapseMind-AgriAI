{
 "cells": [
  {
   "cell_type": "code",
   "execution_count": 1,
   "metadata": {},
   "outputs": [
    {
     "name": "stdout",
     "output_type": "stream",
     "text": [
      "✅ Predicted Production: 8333.20 units\n"
     ]
    }
   ],
   "source": [
    "import joblib\n",
    "import pandas as pd\n",
    "\n",
    "# ✅ Load the model and training columns\n",
    "model = joblib.load('crop_production_model.pkl')\n",
    "training_columns = joblib.load('training_columns.pkl')\n",
    "\n",
    "# ✅ Single Input\n",
    "state = 'Tamil Nadu'\n",
    "district = 'Chennai'\n",
    "season = 'Summer'\n",
    "crop = 'Rice'\n",
    "area = 600\n",
    "\n",
    "# ✅ Create a DataFrame for the input\n",
    "input_data = pd.DataFrame([[state, district, season, crop, area]],\n",
    "                          columns=['State_Name', 'District_Name', 'Season', 'Crop', 'Area'])\n",
    "\n",
    "# ✅ One-hot encode the input data to match training format\n",
    "input_encoded = pd.get_dummies(input_data, columns=['State_Name', 'District_Name', 'Season', 'Crop'])\n",
    "\n",
    "# ✅ Align columns with training data (fill missing ones with 0)\n",
    "input_encoded = input_encoded.reindex(columns=training_columns, fill_value=0)\n",
    "\n",
    "# ✅ Predict\n",
    "predicted_production = model.predict(input_encoded)\n",
    "\n",
    "# ✅ Convert negative values to positive using abs()\n",
    "final_prediction = abs(predicted_production[0])\n",
    "\n",
    "print(f\"✅ Predicted Production: {final_prediction:.2f} units\")\n"
   ]
  },
  {
   "cell_type": "code",
   "execution_count": null,
   "metadata": {},
   "outputs": [],
   "source": []
  }
 ],
 "metadata": {
  "kernelspec": {
   "display_name": "Python 3",
   "language": "python",
   "name": "python3"
  },
  "language_info": {
   "codemirror_mode": {
    "name": "ipython",
    "version": 3
   },
   "file_extension": ".py",
   "mimetype": "text/x-python",
   "name": "python",
   "nbconvert_exporter": "python",
   "pygments_lexer": "ipython3",
   "version": "3.13.1"
  }
 },
 "nbformat": 4,
 "nbformat_minor": 2
}
